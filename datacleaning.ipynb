{
 "cells": [
  {
   "cell_type": "code",
   "execution_count": 1,
   "metadata": {},
   "outputs": [],
   "source": [
    "# Importing pandas package\n",
    "import pandas as pd"
   ]
  },
  {
   "cell_type": "code",
   "execution_count": 2,
   "metadata": {},
   "outputs": [
    {
     "name": "stdout",
     "output_type": "stream",
     "text": [
      "Created DataFrame:\n",
      "    Actor      Web-Series  Platform\n",
      "0   Amit          Avrodh  Sony liv\n",
      "1  Nawaz    Sacred Games   Netflix\n",
      "2  Manoj  The Family Man     Prime \n",
      "\n",
      "Result:\n",
      " 0    False\n",
      "1     True\n",
      "2    False\n",
      "Name: Platform, dtype: bool\n",
      "Modified Result:\n",
      " 0     True\n",
      "1    False\n",
      "2     True\n",
      "Name: Platform, dtype: bool\n"
     ]
    }
   ],
   "source": [
    "# Creating a dictionary\n",
    "d = {\n",
    "    'Actor':['Amit','Nawaz','Manoj'],\n",
    "    'Web-Series':['Avrodh','Sacred Games','The Family Man'],\n",
    "    'Platform':['Sony liv','Netflix','Prime']\n",
    "}\n",
    "\n",
    "# Creating a DataFrame\n",
    "df = pd.DataFrame(d)\n",
    "\n",
    "# Display Original DataFrame\n",
    "print(\"Created DataFrame:\\n\",df,\"\\n\")\n",
    "\n",
    "# Check if platform column contains Netflix\n",
    "result =  df['Platform'].str.contains('Netflix')\n",
    "\n",
    "# Display original result\n",
    "print(\"Result:\\n\",result)\n",
    "\n",
    "# Now inverting the result\n",
    "result = ~df['Platform'].str.contains('Netflix')\n",
    "\n",
    "# Display modified result\n",
    "print(\"Modified Result:\\n\",result)"
   ]
  },
  {
   "cell_type": "code",
   "execution_count": 6,
   "metadata": {},
   "outputs": [
    {
     "data": {
      "text/html": [
       "<div>\n",
       "<style scoped>\n",
       "    .dataframe tbody tr th:only-of-type {\n",
       "        vertical-align: middle;\n",
       "    }\n",
       "\n",
       "    .dataframe tbody tr th {\n",
       "        vertical-align: top;\n",
       "    }\n",
       "\n",
       "    .dataframe thead th {\n",
       "        text-align: right;\n",
       "    }\n",
       "</style>\n",
       "<table border=\"1\" class=\"dataframe\">\n",
       "  <thead>\n",
       "    <tr style=\"text-align: right;\">\n",
       "      <th></th>\n",
       "      <th>Actor</th>\n",
       "      <th>Web-Series</th>\n",
       "      <th>Platform</th>\n",
       "    </tr>\n",
       "  </thead>\n",
       "  <tbody>\n",
       "    <tr>\n",
       "      <th>0</th>\n",
       "      <td>Amit</td>\n",
       "      <td>Avrodh</td>\n",
       "      <td>Sony liv</td>\n",
       "    </tr>\n",
       "    <tr>\n",
       "      <th>2</th>\n",
       "      <td>Manoj</td>\n",
       "      <td>The Family Man</td>\n",
       "      <td>Prime</td>\n",
       "    </tr>\n",
       "  </tbody>\n",
       "</table>\n",
       "</div>"
      ],
      "text/plain": [
       "   Actor      Web-Series  Platform\n",
       "0   Amit          Avrodh  Sony liv\n",
       "2  Manoj  The Family Man     Prime"
      ]
     },
     "execution_count": 6,
     "metadata": {},
     "output_type": "execute_result"
    }
   ],
   "source": [
    "df[~df['Platform'].str.contains('Netflix')]\n",
    "# it's just like rows query in sql"
   ]
  },
  {
   "cell_type": "code",
   "execution_count": null,
   "metadata": {},
   "outputs": [],
   "source": []
  }
 ],
 "metadata": {
  "kernelspec": {
   "display_name": "Python 3.10.8 ('machinelearningenv': venv)",
   "language": "python",
   "name": "python3"
  },
  "language_info": {
   "codemirror_mode": {
    "name": "ipython",
    "version": 3
   },
   "file_extension": ".py",
   "mimetype": "text/x-python",
   "name": "python",
   "nbconvert_exporter": "python",
   "pygments_lexer": "ipython3",
   "version": "3.10.8"
  },
  "orig_nbformat": 4,
  "vscode": {
   "interpreter": {
    "hash": "e2818dd09f53d1d59dec6c2c5a6c085a04f26bb7083c6918536fa6e840c2338e"
   }
  }
 },
 "nbformat": 4,
 "nbformat_minor": 2
}
